{
 "cells": [
  {
   "cell_type": "code",
   "execution_count": 2,
   "metadata": {},
   "outputs": [],
   "source": [
    "import os\n",
    "import tweepy as tw"
   ]
  },
  {
   "cell_type": "code",
   "execution_count": 3,
   "metadata": {},
   "outputs": [
    {
     "data": {
      "text/plain": [
       "True"
      ]
     },
     "execution_count": 3,
     "metadata": {},
     "output_type": "execute_result"
    }
   ],
   "source": [
    "from dotenv import load_dotenv\n",
    "load_dotenv()"
   ]
  },
  {
   "cell_type": "code",
   "execution_count": 4,
   "metadata": {},
   "outputs": [
    {
     "name": "stdout",
     "output_type": "stream",
     "text": [
      "<class 'str'>\n",
      "<class 'str'>\n",
      "<class 'str'>\n",
      "<class 'str'>\n"
     ]
    }
   ],
   "source": [
    "# Get the keys from the environment file\n",
    "twitter_api_key = os.getenv(\"twitter_api\")\n",
    "twitter_secret_key = os.getenv(\"twitter_api_secret\")\n",
    "twitter_access_token_key = os.getenv(\"twitter_access_token\")\n",
    "twitter_access_token_secret_key = os.getenv(\"twitter_access_token_secret\")\n",
    "\n",
    "# Checking if the keys return str or Nontype. str means success.\n",
    "print(type(twitter_api_key))\n",
    "print(type(twitter_secret_key))\n",
    "print(type(twitter_access_token_key))\n",
    "print(type(twitter_access_token_secret_key))"
   ]
  },
  {
   "cell_type": "code",
   "execution_count": 5,
   "metadata": {},
   "outputs": [],
   "source": [
    "class TweetScrapper:\n",
    "    def __init__(self):\n",
    "        self.login()\n",
    "        \n",
    "    def login(self):\n",
    "        auth = tw.OAuthHandler(twitter_api_key, twitter_secret_key)\n",
    "        auth.set_access_token(twitter_access_token_key, twitter_access_token_secret_key)\n",
    "        self.api = tw.API(auth, wait_on_rate_limit = True)\n",
    "        \n",
    "    def get_tweets(self, keyword, tweet_number, date_since=None):\n",
    "        search_words = f'{keyword}-filter:retweets'\n",
    "        tweets = tw.Cursor(self.api.search, q=search_words, lang='en', since= date_since, tweet_mode='extended', result_type='recent').items(tweet_number)\n",
    "        tweet_list = [tweet.full_text.replace('\\n','') for tweet in tweets]\n",
    "        for t in tweet_list:\n",
    "            print(t, '\\n')\n",
    "        return tweet_list"
   ]
  },
  {
   "cell_type": "code",
   "execution_count": 10,
   "metadata": {},
   "outputs": [
    {
     "name": "stdout",
     "output_type": "stream",
     "text": [
      "@TradeNew2 3) With regards to buying on a Red Day when Tesla is trading down that day...  How much of your available investing cash do you go in with?  5-10% or greater than 20%?  My own portfolio is small (less than 50k). 40% tied into ARKK and about 30k available.  So how do i plan? \n",
      "\n",
      "@BlueCollarMage @larry_richmond @Gladwell @GM You point is that it’s still expensive? Well, yes. But it is attainable for HALF the people buying *new* cars. Hang on for the $25,000 Tesla now under development in China. \n",
      "\n",
      "@GabbbarSingh They rejoice burning hay to cause pollution in Delhi...i don't think they are the tesla crowd \n",
      "\n",
      "@ryanshawtech Tesla works their magic \n",
      "\n",
      "@SparkleOps I'm a wannabe script kiddie sneakerhead who loves Tesla, plays MLP:CCG, and occasionally moonlights as a scambaiter, all the while entertaining his inner masochist in a vain attempt to moderate fifty thousand teenagers who love being off topic. \n",
      "\n"
     ]
    }
   ],
   "source": [
    "t = TweetScrapper()\n",
    "tesla_list = t.get_tweets('tesla', 5)"
   ]
  },
  {
   "cell_type": "code",
   "execution_count": 12,
   "metadata": {},
   "outputs": [
    {
     "data": {
      "text/html": [
       "<div>\n",
       "<style scoped>\n",
       "    .dataframe tbody tr th:only-of-type {\n",
       "        vertical-align: middle;\n",
       "    }\n",
       "\n",
       "    .dataframe tbody tr th {\n",
       "        vertical-align: top;\n",
       "    }\n",
       "\n",
       "    .dataframe thead th {\n",
       "        text-align: right;\n",
       "    }\n",
       "</style>\n",
       "<table border=\"1\" class=\"dataframe\">\n",
       "  <thead>\n",
       "    <tr style=\"text-align: right;\">\n",
       "      <th></th>\n",
       "      <th>Tesla_tweets</th>\n",
       "    </tr>\n",
       "  </thead>\n",
       "  <tbody>\n",
       "    <tr>\n",
       "      <th>0</th>\n",
       "      <td>@TradeNew2 3) With regards to buying on a Red ...</td>\n",
       "    </tr>\n",
       "    <tr>\n",
       "      <th>1</th>\n",
       "      <td>@BlueCollarMage @larry_richmond @Gladwell @GM ...</td>\n",
       "    </tr>\n",
       "    <tr>\n",
       "      <th>2</th>\n",
       "      <td>@GabbbarSingh They rejoice burning hay to caus...</td>\n",
       "    </tr>\n",
       "    <tr>\n",
       "      <th>3</th>\n",
       "      <td>@ryanshawtech Tesla works their magic</td>\n",
       "    </tr>\n",
       "    <tr>\n",
       "      <th>4</th>\n",
       "      <td>@SparkleOps I'm a wannabe script kiddie sneake...</td>\n",
       "    </tr>\n",
       "  </tbody>\n",
       "</table>\n",
       "</div>"
      ],
      "text/plain": [
       "                                        Tesla_tweets\n",
       "0  @TradeNew2 3) With regards to buying on a Red ...\n",
       "1  @BlueCollarMage @larry_richmond @Gladwell @GM ...\n",
       "2  @GabbbarSingh They rejoice burning hay to caus...\n",
       "3              @ryanshawtech Tesla works their magic\n",
       "4  @SparkleOps I'm a wannabe script kiddie sneake..."
      ]
     },
     "execution_count": 12,
     "metadata": {},
     "output_type": "execute_result"
    }
   ],
   "source": [
    "import pandas as pd\n",
    "tesla_df = pd.DataFrame(tesla_list,columns=['Tesla_tweets'])\n",
    "tesla_df.head()"
   ]
  }
 ],
 "metadata": {
  "kernelspec": {
   "display_name": "Python (mlenv)",
   "language": "python",
   "name": "mlenv"
  },
  "language_info": {
   "codemirror_mode": {
    "name": "ipython",
    "version": 3
   },
   "file_extension": ".py",
   "mimetype": "text/x-python",
   "name": "python",
   "nbconvert_exporter": "python",
   "pygments_lexer": "ipython3",
   "version": "3.7.9"
  }
 },
 "nbformat": 4,
 "nbformat_minor": 4
}
