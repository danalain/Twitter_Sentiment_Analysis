{
 "cells": [
  {
   "cell_type": "markdown",
   "metadata": {},
   "source": [
    "# Sentiment Analysis using Twitter API\n",
    "\n",
    "## Import Libraries"
   ]
  },
  {
   "cell_type": "code",
   "execution_count": 1,
   "metadata": {},
   "outputs": [],
   "source": [
    "import os\n",
    "import requests\n",
    "import pandas as pd \n",
    "import numpy as np\n",
    "import datetime\n",
    "import tweepy"
   ]
  },
  {
   "cell_type": "markdown",
   "metadata": {},
   "source": [
    "## Load API keys and Access Token Environment"
   ]
  },
  {
   "cell_type": "code",
   "execution_count": 2,
   "metadata": {},
   "outputs": [
    {
     "data": {
      "text/plain": [
       "True"
      ]
     },
     "execution_count": 2,
     "metadata": {},
     "output_type": "execute_result"
    }
   ],
   "source": [
    "from dotenv import load_dotenv\n",
    "load_dotenv()"
   ]
  },
  {
   "cell_type": "code",
   "execution_count": 3,
   "metadata": {},
   "outputs": [
    {
     "name": "stdout",
     "output_type": "stream",
     "text": [
      "<class 'str'>\n",
      "<class 'str'>\n",
      "<class 'str'>\n",
      "<class 'str'>\n"
     ]
    }
   ],
   "source": [
    "# Get the keys from the environment file\n",
    "twitter_api_key = os.getenv(\"twitter_api\")\n",
    "twitter_secret_key = os.getenv(\"twitter_api_secret\")\n",
    "twitter_access_token_key = os.getenv(\"twitter_access_token\")\n",
    "twitter_access_token_secret_key = os.getenv(\"twitter_access_token_secret\")\n",
    "\n",
    "# Checking if the keys return str or Nontype. str means success.\n",
    "print(type(twitter_api_key))\n",
    "print(type(twitter_secret_key))\n",
    "print(type(twitter_access_token_key))\n",
    "print(type(twitter_access_token_secret_key))"
   ]
  },
  {
   "cell_type": "markdown",
   "metadata": {},
   "source": [
    "## Authenticate API keys & Access tokens"
   ]
  },
  {
   "cell_type": "code",
   "execution_count": 4,
   "metadata": {},
   "outputs": [],
   "source": [
    "# Tweepy API and Access Token authentocation codes\n",
    "auth = tweepy.OAuthHandler(twitter_api_key, twitter_secret_key)\n",
    "auth.set_access_token(twitter_access_token_key, twitter_access_token_secret_key)\n",
    "api = tweepy.API(auth)"
   ]
  },
  {
   "cell_type": "markdown",
   "metadata": {},
   "source": [
    "## Tesla Tweets "
   ]
  },
  {
   "cell_type": "code",
   "execution_count": 5,
   "metadata": {},
   "outputs": [],
   "source": [
    "# Define a query to pull Tesla related tweets. \n",
    "# Use -filter:retweets to exclude retweets.\n",
    "# For more Search-Operator Rules visit https://developer.twitter.com/en/docs/twitter-api/v1/rules-and-filtering/search-operators\n",
    "tesla_results = api.search(q=\"Tesla -filter:retweets\", lang = \"en\", count=100)\n",
    "\n",
    "# Iterate results in Json to prepare for a dataframe creation.\n",
    "tesla_json_data = [result._json for result in tesla_results]\n",
    "\n",
    "# Create dataframe from the json format\n",
    "tesla_df = pd.json_normalize(tesla_json_data)"
   ]
  },
  {
   "cell_type": "code",
   "execution_count": 6,
   "metadata": {},
   "outputs": [
    {
     "data": {
      "text/html": [
       "<div>\n",
       "<style scoped>\n",
       "    .dataframe tbody tr th:only-of-type {\n",
       "        vertical-align: middle;\n",
       "    }\n",
       "\n",
       "    .dataframe tbody tr th {\n",
       "        vertical-align: top;\n",
       "    }\n",
       "\n",
       "    .dataframe thead th {\n",
       "        text-align: right;\n",
       "    }\n",
       "</style>\n",
       "<table border=\"1\" class=\"dataframe\">\n",
       "  <thead>\n",
       "    <tr style=\"text-align: right;\">\n",
       "      <th></th>\n",
       "      <th>created_at</th>\n",
       "      <th>text</th>\n",
       "    </tr>\n",
       "  </thead>\n",
       "  <tbody>\n",
       "    <tr>\n",
       "      <th>0</th>\n",
       "      <td>Mon Jan 11 11:31:29 +0000 2021</td>\n",
       "      <td>Having a Tesla seems to be the biggest flex ou...</td>\n",
       "    </tr>\n",
       "    <tr>\n",
       "      <th>1</th>\n",
       "      <td>Mon Jan 11 11:31:26 +0000 2021</td>\n",
       "      <td>NHTSA determines sudden acceleration complaint...</td>\n",
       "    </tr>\n",
       "    <tr>\n",
       "      <th>2</th>\n",
       "      <td>Mon Jan 11 11:31:25 +0000 2021</td>\n",
       "      <td>NHTSA determines sudden acceleration complaint...</td>\n",
       "    </tr>\n",
       "    <tr>\n",
       "      <th>3</th>\n",
       "      <td>Mon Jan 11 11:31:24 +0000 2021</td>\n",
       "      <td>NHTSA determines sudden acceleration complaint...</td>\n",
       "    </tr>\n",
       "    <tr>\n",
       "      <th>4</th>\n",
       "      <td>Mon Jan 11 11:31:12 +0000 2021</td>\n",
       "      <td>@tesla_god Nobody is reporting it because it i...</td>\n",
       "    </tr>\n",
       "  </tbody>\n",
       "</table>\n",
       "</div>"
      ],
      "text/plain": [
       "                       created_at  \\\n",
       "0  Mon Jan 11 11:31:29 +0000 2021   \n",
       "1  Mon Jan 11 11:31:26 +0000 2021   \n",
       "2  Mon Jan 11 11:31:25 +0000 2021   \n",
       "3  Mon Jan 11 11:31:24 +0000 2021   \n",
       "4  Mon Jan 11 11:31:12 +0000 2021   \n",
       "\n",
       "                                                text  \n",
       "0  Having a Tesla seems to be the biggest flex ou...  \n",
       "1  NHTSA determines sudden acceleration complaint...  \n",
       "2  NHTSA determines sudden acceleration complaint...  \n",
       "3  NHTSA determines sudden acceleration complaint...  \n",
       "4  @tesla_god Nobody is reporting it because it i...  "
      ]
     },
     "execution_count": 6,
     "metadata": {},
     "output_type": "execute_result"
    }
   ],
   "source": [
    "# Get Date and Text Columns\n",
    "tesla_tweets_df = tesla_df[[\"created_at\", \"text\"]]\n",
    "\n",
    "# Sample 5 dataframe rows\n",
    "tesla_tweets_df.head(5)"
   ]
  },
  {
   "cell_type": "markdown",
   "metadata": {},
   "source": [
    "## Facebook Tweets"
   ]
  },
  {
   "cell_type": "code",
   "execution_count": 7,
   "metadata": {},
   "outputs": [],
   "source": [
    "# Define a query to pull Facebook related tweets.\n",
    "facebook_results = api.search(q=\"Facebook -filter:retweets\", lang= \"en\", count=100)\n",
    "\n",
    "# Interate results in Json to prepare for a dataframe creation.\n",
    "facebook_json_data = [result._json for result in facebook_results]\n",
    "\n",
    "# Create dataframe from the json format\n",
    "facebook_df = pd.json_normalize(facebook_json_data)"
   ]
  },
  {
   "cell_type": "code",
   "execution_count": 8,
   "metadata": {},
   "outputs": [
    {
     "data": {
      "text/html": [
       "<div>\n",
       "<style scoped>\n",
       "    .dataframe tbody tr th:only-of-type {\n",
       "        vertical-align: middle;\n",
       "    }\n",
       "\n",
       "    .dataframe tbody tr th {\n",
       "        vertical-align: top;\n",
       "    }\n",
       "\n",
       "    .dataframe thead th {\n",
       "        text-align: right;\n",
       "    }\n",
       "</style>\n",
       "<table border=\"1\" class=\"dataframe\">\n",
       "  <thead>\n",
       "    <tr style=\"text-align: right;\">\n",
       "      <th></th>\n",
       "      <th>created_at</th>\n",
       "      <th>text</th>\n",
       "    </tr>\n",
       "  </thead>\n",
       "  <tbody>\n",
       "    <tr>\n",
       "      <th>0</th>\n",
       "      <td>Mon Jan 11 11:31:35 +0000 2021</td>\n",
       "      <td>@SammerAbbas @Shiffa_ZY Thankyou for taking Em...</td>\n",
       "    </tr>\n",
       "    <tr>\n",
       "      <th>1</th>\n",
       "      <td>Mon Jan 11 11:31:32 +0000 2021</td>\n",
       "      <td>Don't forget to stop by, network &amp;amp; Follow ...</td>\n",
       "    </tr>\n",
       "    <tr>\n",
       "      <th>2</th>\n",
       "      <td>Mon Jan 11 11:31:31 +0000 2021</td>\n",
       "      <td>@telegram better than @WhatsApp \\n\\nDon't use ...</td>\n",
       "    </tr>\n",
       "    <tr>\n",
       "      <th>3</th>\n",
       "      <td>Mon Jan 11 11:31:31 +0000 2021</td>\n",
       "      <td>For the good of our daughters #BETIPARHAO  htt...</td>\n",
       "    </tr>\n",
       "    <tr>\n",
       "      <th>4</th>\n",
       "      <td>Mon Jan 11 11:31:29 +0000 2021</td>\n",
       "      <td>Nawa ooo..ND that's how I refused to play Face...</td>\n",
       "    </tr>\n",
       "  </tbody>\n",
       "</table>\n",
       "</div>"
      ],
      "text/plain": [
       "                       created_at  \\\n",
       "0  Mon Jan 11 11:31:35 +0000 2021   \n",
       "1  Mon Jan 11 11:31:32 +0000 2021   \n",
       "2  Mon Jan 11 11:31:31 +0000 2021   \n",
       "3  Mon Jan 11 11:31:31 +0000 2021   \n",
       "4  Mon Jan 11 11:31:29 +0000 2021   \n",
       "\n",
       "                                                text  \n",
       "0  @SammerAbbas @Shiffa_ZY Thankyou for taking Em...  \n",
       "1  Don't forget to stop by, network &amp; Follow ...  \n",
       "2  @telegram better than @WhatsApp \\n\\nDon't use ...  \n",
       "3  For the good of our daughters #BETIPARHAO  htt...  \n",
       "4  Nawa ooo..ND that's how I refused to play Face...  "
      ]
     },
     "execution_count": 8,
     "metadata": {},
     "output_type": "execute_result"
    }
   ],
   "source": [
    "# Get Date and Text Columns\n",
    "facebook_tweets_df = facebook_df[[\"created_at\", \"text\"]]\n",
    "\n",
    "# Sample 5 dataframe rows\n",
    "facebook_tweets_df.head(5)"
   ]
  },
  {
   "cell_type": "markdown",
   "metadata": {},
   "source": [
    "## Amazon Tweets"
   ]
  },
  {
   "cell_type": "code",
   "execution_count": 9,
   "metadata": {},
   "outputs": [],
   "source": [
    "# Define a query to pull Amazon related tweets.\n",
    "amazon_results = api.search(q=\"Amazon -forest -filter:retweets\", lang= \"en\", count=100)\n",
    "\n",
    "# Interate results in Json to prepare for a dataframe creation.\n",
    "amazon_json_data = [result._json for result in amazon_results]\n",
    "\n",
    "# Create dataframe from the json format\n",
    "amazon_df = pd.json_normalize(amazon_json_data)"
   ]
  },
  {
   "cell_type": "code",
   "execution_count": 10,
   "metadata": {},
   "outputs": [
    {
     "data": {
      "text/html": [
       "<div>\n",
       "<style scoped>\n",
       "    .dataframe tbody tr th:only-of-type {\n",
       "        vertical-align: middle;\n",
       "    }\n",
       "\n",
       "    .dataframe tbody tr th {\n",
       "        vertical-align: top;\n",
       "    }\n",
       "\n",
       "    .dataframe thead th {\n",
       "        text-align: right;\n",
       "    }\n",
       "</style>\n",
       "<table border=\"1\" class=\"dataframe\">\n",
       "  <thead>\n",
       "    <tr style=\"text-align: right;\">\n",
       "      <th></th>\n",
       "      <th>created_at</th>\n",
       "      <th>text</th>\n",
       "    </tr>\n",
       "  </thead>\n",
       "  <tbody>\n",
       "    <tr>\n",
       "      <th>0</th>\n",
       "      <td>Mon Jan 11 11:31:35 +0000 2021</td>\n",
       "      <td>FLATSEVEN Mens Slim Fit Casual Cotton Shirts L...</td>\n",
       "    </tr>\n",
       "    <tr>\n",
       "      <th>1</th>\n",
       "      <td>Mon Jan 11 11:31:31 +0000 2021</td>\n",
       "      <td>Zebronics Zeb-Tulip,in Ear Design Wired Stereo...</td>\n",
       "    </tr>\n",
       "    <tr>\n",
       "      <th>2</th>\n",
       "      <td>Mon Jan 11 11:31:31 +0000 2021</td>\n",
       "      <td>\"Take a fun European vacation at home with you...</td>\n",
       "    </tr>\n",
       "    <tr>\n",
       "      <th>3</th>\n",
       "      <td>Mon Jan 11 11:31:30 +0000 2021</td>\n",
       "      <td>@chas_armes @spuddonna @ViviVacca @BuzzFeedNew...</td>\n",
       "    </tr>\n",
       "    <tr>\n",
       "      <th>4</th>\n",
       "      <td>Mon Jan 11 11:31:30 +0000 2021</td>\n",
       "      <td>But I see no reason to celebrate the effective...</td>\n",
       "    </tr>\n",
       "  </tbody>\n",
       "</table>\n",
       "</div>"
      ],
      "text/plain": [
       "                       created_at  \\\n",
       "0  Mon Jan 11 11:31:35 +0000 2021   \n",
       "1  Mon Jan 11 11:31:31 +0000 2021   \n",
       "2  Mon Jan 11 11:31:31 +0000 2021   \n",
       "3  Mon Jan 11 11:31:30 +0000 2021   \n",
       "4  Mon Jan 11 11:31:30 +0000 2021   \n",
       "\n",
       "                                                text  \n",
       "0  FLATSEVEN Mens Slim Fit Casual Cotton Shirts L...  \n",
       "1  Zebronics Zeb-Tulip,in Ear Design Wired Stereo...  \n",
       "2  \"Take a fun European vacation at home with you...  \n",
       "3  @chas_armes @spuddonna @ViviVacca @BuzzFeedNew...  \n",
       "4  But I see no reason to celebrate the effective...  "
      ]
     },
     "execution_count": 10,
     "metadata": {},
     "output_type": "execute_result"
    }
   ],
   "source": [
    "# Get Date and Text Columns\n",
    "amazon_tweets_df = amazon_df[[\"created_at\", \"text\"]]\n",
    "\n",
    "# Sample 5 dataframe rows\n",
    "amazon_tweets_df.head(5)"
   ]
  },
  {
   "cell_type": "markdown",
   "metadata": {},
   "source": [
    "## Microsoft Tweets"
   ]
  },
  {
   "cell_type": "code",
   "execution_count": 11,
   "metadata": {},
   "outputs": [],
   "source": [
    "# Define a query to pull Microsoft related tweets.\n",
    "microsoft_results = api.search(q=\"Microsoft -filter:retweets\", lang= \"en\", count=100)\n",
    "\n",
    "# Interate results in Json to prepare for a dataframe creation.\n",
    "microsoft_json_data = [result._json for result in microsoft_results]\n",
    "\n",
    "# Create dataframe from the json format\n",
    "microsoft_df = pd.json_normalize(microsoft_json_data)"
   ]
  },
  {
   "cell_type": "code",
   "execution_count": 12,
   "metadata": {},
   "outputs": [
    {
     "data": {
      "text/html": [
       "<div>\n",
       "<style scoped>\n",
       "    .dataframe tbody tr th:only-of-type {\n",
       "        vertical-align: middle;\n",
       "    }\n",
       "\n",
       "    .dataframe tbody tr th {\n",
       "        vertical-align: top;\n",
       "    }\n",
       "\n",
       "    .dataframe thead th {\n",
       "        text-align: right;\n",
       "    }\n",
       "</style>\n",
       "<table border=\"1\" class=\"dataframe\">\n",
       "  <thead>\n",
       "    <tr style=\"text-align: right;\">\n",
       "      <th></th>\n",
       "      <th>created_at</th>\n",
       "      <th>text</th>\n",
       "    </tr>\n",
       "  </thead>\n",
       "  <tbody>\n",
       "    <tr>\n",
       "      <th>0</th>\n",
       "      <td>Mon Jan 11 11:31:35 +0000 2021</td>\n",
       "      <td>Having really impressive results moving a clie...</td>\n",
       "    </tr>\n",
       "    <tr>\n",
       "      <th>1</th>\n",
       "      <td>Mon Jan 11 11:31:24 +0000 2021</td>\n",
       "      <td>Pupils in Scotland struggle to get online amid...</td>\n",
       "    </tr>\n",
       "    <tr>\n",
       "      <th>2</th>\n",
       "      <td>Mon Jan 11 11:31:21 +0000 2021</td>\n",
       "      <td>starting to feel like a microsoft office zombie</td>\n",
       "    </tr>\n",
       "    <tr>\n",
       "      <th>3</th>\n",
       "      <td>Mon Jan 11 11:31:06 +0000 2021</td>\n",
       "      <td>Keir Starmer missing the chance to condemn the...</td>\n",
       "    </tr>\n",
       "    <tr>\n",
       "      <th>4</th>\n",
       "      <td>Mon Jan 11 11:31:03 +0000 2021</td>\n",
       "      <td>Two local authorities in northwest England sig...</td>\n",
       "    </tr>\n",
       "  </tbody>\n",
       "</table>\n",
       "</div>"
      ],
      "text/plain": [
       "                       created_at  \\\n",
       "0  Mon Jan 11 11:31:35 +0000 2021   \n",
       "1  Mon Jan 11 11:31:24 +0000 2021   \n",
       "2  Mon Jan 11 11:31:21 +0000 2021   \n",
       "3  Mon Jan 11 11:31:06 +0000 2021   \n",
       "4  Mon Jan 11 11:31:03 +0000 2021   \n",
       "\n",
       "                                                text  \n",
       "0  Having really impressive results moving a clie...  \n",
       "1  Pupils in Scotland struggle to get online amid...  \n",
       "2    starting to feel like a microsoft office zombie  \n",
       "3  Keir Starmer missing the chance to condemn the...  \n",
       "4  Two local authorities in northwest England sig...  "
      ]
     },
     "execution_count": 12,
     "metadata": {},
     "output_type": "execute_result"
    }
   ],
   "source": [
    "# Get Date and Text Columns\n",
    "microsoft_tweets_df = microsoft_df[[\"created_at\", \"text\"]]\n",
    "\n",
    "# Sample 5 dataframe rows\n",
    "microsoft_tweets_df.head(5)"
   ]
  },
  {
   "cell_type": "markdown",
   "metadata": {},
   "source": [
    "## Apple Tweets"
   ]
  },
  {
   "cell_type": "code",
   "execution_count": 13,
   "metadata": {},
   "outputs": [],
   "source": [
    "# Define a query to pull Apple related tweets.\n",
    "apple_results = api.search(q=\"Apple -juice -fruit -filter:retweets\", lang= \"en\", count=100)\n",
    "\n",
    "# Interate results in Json to prepare for a dataframe creation.\n",
    "apple_json_data = [result._json for result in apple_results]\n",
    "\n",
    "# Create dataframe from the json format\n",
    "apple_df = pd.json_normalize(apple_json_data)"
   ]
  },
  {
   "cell_type": "code",
   "execution_count": 14,
   "metadata": {},
   "outputs": [
    {
     "data": {
      "text/html": [
       "<div>\n",
       "<style scoped>\n",
       "    .dataframe tbody tr th:only-of-type {\n",
       "        vertical-align: middle;\n",
       "    }\n",
       "\n",
       "    .dataframe tbody tr th {\n",
       "        vertical-align: top;\n",
       "    }\n",
       "\n",
       "    .dataframe thead th {\n",
       "        text-align: right;\n",
       "    }\n",
       "</style>\n",
       "<table border=\"1\" class=\"dataframe\">\n",
       "  <thead>\n",
       "    <tr style=\"text-align: right;\">\n",
       "      <th></th>\n",
       "      <th>created_at</th>\n",
       "      <th>text</th>\n",
       "    </tr>\n",
       "  </thead>\n",
       "  <tbody>\n",
       "    <tr>\n",
       "      <th>0</th>\n",
       "      <td>Mon Jan 11 11:31:37 +0000 2021</td>\n",
       "      <td>@charliekirk11 Go to your Apple Podcast now......</td>\n",
       "    </tr>\n",
       "    <tr>\n",
       "      <th>1</th>\n",
       "      <td>Mon Jan 11 11:31:29 +0000 2021</td>\n",
       "      <td>Moree! \\n\\nYT: https://t.co/EHH3oCmKCy\\nSPOTIF...</td>\n",
       "    </tr>\n",
       "    <tr>\n",
       "      <th>2</th>\n",
       "      <td>Mon Jan 11 11:31:29 +0000 2021</td>\n",
       "      <td>Apple Music - 'Top 100: Global':\\n\\n🔺Dynamite ...</td>\n",
       "    </tr>\n",
       "    <tr>\n",
       "      <th>3</th>\n",
       "      <td>Mon Jan 11 11:31:29 +0000 2021</td>\n",
       "      <td>@The_Grimster @LeftyBesty @mike_hamm @Screenwr...</td>\n",
       "    </tr>\n",
       "    <tr>\n",
       "      <th>4</th>\n",
       "      <td>Mon Jan 11 11:31:27 +0000 2021</td>\n",
       "      <td>@lelowhatsgood Apple is a bombaclat for discon...</td>\n",
       "    </tr>\n",
       "  </tbody>\n",
       "</table>\n",
       "</div>"
      ],
      "text/plain": [
       "                       created_at  \\\n",
       "0  Mon Jan 11 11:31:37 +0000 2021   \n",
       "1  Mon Jan 11 11:31:29 +0000 2021   \n",
       "2  Mon Jan 11 11:31:29 +0000 2021   \n",
       "3  Mon Jan 11 11:31:29 +0000 2021   \n",
       "4  Mon Jan 11 11:31:27 +0000 2021   \n",
       "\n",
       "                                                text  \n",
       "0  @charliekirk11 Go to your Apple Podcast now......  \n",
       "1  Moree! \\n\\nYT: https://t.co/EHH3oCmKCy\\nSPOTIF...  \n",
       "2  Apple Music - 'Top 100: Global':\\n\\n🔺Dynamite ...  \n",
       "3  @The_Grimster @LeftyBesty @mike_hamm @Screenwr...  \n",
       "4  @lelowhatsgood Apple is a bombaclat for discon...  "
      ]
     },
     "execution_count": 14,
     "metadata": {},
     "output_type": "execute_result"
    }
   ],
   "source": [
    "# Get Date and Text Columns\n",
    "apple_tweets_df = apple_df[[\"created_at\", \"text\"]]\n",
    "\n",
    "# Sample 5 dataframe rows\n",
    "apple_tweets_df.head(5)"
   ]
  },
  {
   "cell_type": "markdown",
   "metadata": {},
   "source": [
    "# Sentiment Analysis\n",
    "\n",
    "### Calculating VADER Sentiment Score for News Titles and Text\n",
    "\n",
    "As you know the `compound` score could be used to get a normalized score for a sentiment, in this section you have to create a function called `get_sentiment(score)` that will return a normalized value of sentiment for the `score` parameter based on the rules you learn. This function should return `1` for positive sentiment, `-1` for negative sentiment, and `0` for neutral sentiment.\n",
    "\n",
    "Use the the VADER sentiment module from `NLTK` to score the sentiment of every tweets in english; you should append five new columns to the tweets DataFrame to store the results as follows.\n",
    "\n",
    "* Tweet's compound score\n",
    "* Tweet's positive score\n",
    "* Tweet's neutral score\n",
    "* Tweet's negative score\n",
    "* Tweet's normalized score (using the `get_sentiment()` function)"
   ]
  },
  {
   "cell_type": "code",
   "execution_count": 15,
   "metadata": {},
   "outputs": [],
   "source": [
    "# Import Natural Language Toolkit Library\n",
    "import nltk\n",
    "from nltk.sentiment.vader import SentimentIntensityAnalyzer"
   ]
  },
  {
   "cell_type": "code",
   "execution_count": 16,
   "metadata": {},
   "outputs": [],
   "source": [
    "# Initialize the VADER sentiment analyzer\n",
    "analyzer = SentimentIntensityAnalyzer()"
   ]
  },
  {
   "cell_type": "code",
   "execution_count": 17,
   "metadata": {},
   "outputs": [],
   "source": [
    "# Sentiment calculation based on compound score\n",
    "def get_sentiment(score):\n",
    "    \"\"\"\n",
    "    Calculates the sentiment based on the compound score.\n",
    "    \"\"\"\n",
    "    result = 0  # Neutral by default\n",
    "    if score >= 0.05:  # Positive\n",
    "        result = 1\n",
    "    elif score <= -0.05:  # Negative\n",
    "        result = -1\n",
    "\n",
    "    return result"
   ]
  },
  {
   "cell_type": "markdown",
   "metadata": {},
   "source": [
    "## Tesla Tweet Sentiment"
   ]
  },
  {
   "cell_type": "code",
   "execution_count": 18,
   "metadata": {},
   "outputs": [
    {
     "data": {
      "text/html": [
       "<div>\n",
       "<style scoped>\n",
       "    .dataframe tbody tr th:only-of-type {\n",
       "        vertical-align: middle;\n",
       "    }\n",
       "\n",
       "    .dataframe tbody tr th {\n",
       "        vertical-align: top;\n",
       "    }\n",
       "\n",
       "    .dataframe thead th {\n",
       "        text-align: right;\n",
       "    }\n",
       "</style>\n",
       "<table border=\"1\" class=\"dataframe\">\n",
       "  <thead>\n",
       "    <tr style=\"text-align: right;\">\n",
       "      <th></th>\n",
       "      <th>created_at</th>\n",
       "      <th>text</th>\n",
       "      <th>tweet_compound</th>\n",
       "      <th>tweet_pos</th>\n",
       "      <th>tweet_neu</th>\n",
       "      <th>tweet_neg</th>\n",
       "      <th>tweet_sent</th>\n",
       "    </tr>\n",
       "  </thead>\n",
       "  <tbody>\n",
       "    <tr>\n",
       "      <th>0</th>\n",
       "      <td>Mon Jan 11 11:31:29 +0000 2021</td>\n",
       "      <td>Having a Tesla seems to be the biggest flex ou...</td>\n",
       "      <td>0.0000</td>\n",
       "      <td>0.000</td>\n",
       "      <td>1.000</td>\n",
       "      <td>0.00</td>\n",
       "      <td>0</td>\n",
       "    </tr>\n",
       "    <tr>\n",
       "      <th>1</th>\n",
       "      <td>Mon Jan 11 11:31:26 +0000 2021</td>\n",
       "      <td>NHTSA determines sudden acceleration complaint...</td>\n",
       "      <td>-0.6597</td>\n",
       "      <td>0.000</td>\n",
       "      <td>0.690</td>\n",
       "      <td>0.31</td>\n",
       "      <td>-1</td>\n",
       "    </tr>\n",
       "    <tr>\n",
       "      <th>2</th>\n",
       "      <td>Mon Jan 11 11:31:25 +0000 2021</td>\n",
       "      <td>NHTSA determines sudden acceleration complaint...</td>\n",
       "      <td>-0.6597</td>\n",
       "      <td>0.000</td>\n",
       "      <td>0.690</td>\n",
       "      <td>0.31</td>\n",
       "      <td>-1</td>\n",
       "    </tr>\n",
       "    <tr>\n",
       "      <th>3</th>\n",
       "      <td>Mon Jan 11 11:31:24 +0000 2021</td>\n",
       "      <td>NHTSA determines sudden acceleration complaint...</td>\n",
       "      <td>-0.6597</td>\n",
       "      <td>0.000</td>\n",
       "      <td>0.690</td>\n",
       "      <td>0.31</td>\n",
       "      <td>-1</td>\n",
       "    </tr>\n",
       "    <tr>\n",
       "      <th>4</th>\n",
       "      <td>Mon Jan 11 11:31:12 +0000 2021</td>\n",
       "      <td>@tesla_god Nobody is reporting it because it i...</td>\n",
       "      <td>0.7906</td>\n",
       "      <td>0.421</td>\n",
       "      <td>0.579</td>\n",
       "      <td>0.00</td>\n",
       "      <td>1</td>\n",
       "    </tr>\n",
       "  </tbody>\n",
       "</table>\n",
       "</div>"
      ],
      "text/plain": [
       "                       created_at  \\\n",
       "0  Mon Jan 11 11:31:29 +0000 2021   \n",
       "1  Mon Jan 11 11:31:26 +0000 2021   \n",
       "2  Mon Jan 11 11:31:25 +0000 2021   \n",
       "3  Mon Jan 11 11:31:24 +0000 2021   \n",
       "4  Mon Jan 11 11:31:12 +0000 2021   \n",
       "\n",
       "                                                text  tweet_compound  \\\n",
       "0  Having a Tesla seems to be the biggest flex ou...          0.0000   \n",
       "1  NHTSA determines sudden acceleration complaint...         -0.6597   \n",
       "2  NHTSA determines sudden acceleration complaint...         -0.6597   \n",
       "3  NHTSA determines sudden acceleration complaint...         -0.6597   \n",
       "4  @tesla_god Nobody is reporting it because it i...          0.7906   \n",
       "\n",
       "   tweet_pos  tweet_neu  tweet_neg  tweet_sent  \n",
       "0      0.000      1.000       0.00           0  \n",
       "1      0.000      0.690       0.31          -1  \n",
       "2      0.000      0.690       0.31          -1  \n",
       "3      0.000      0.690       0.31          -1  \n",
       "4      0.421      0.579       0.00           1  "
      ]
     },
     "execution_count": 18,
     "metadata": {},
     "output_type": "execute_result"
    }
   ],
   "source": [
    "# Sentiment scores dictionaries\n",
    "tesla_tweet_sent = {\n",
    "    \"tweet_compound\": [],\n",
    "    \"tweet_pos\": [],\n",
    "    \"tweet_neu\": [],\n",
    "    \"tweet_neg\": [],\n",
    "    \"tweet_sent\": [],\n",
    "}\n",
    "\n",
    "# Get sentiment for the tweets\n",
    "for index, row in tesla_tweets_df.iterrows():\n",
    "    try:\n",
    "        # Sentiment scoring with VADER\n",
    "        tesla_tweet_sentiment = analyzer.polarity_scores(row[\"text\"])\n",
    "        tesla_tweet_sent[\"tweet_compound\"].append(tesla_tweet_sentiment[\"compound\"])\n",
    "        tesla_tweet_sent[\"tweet_pos\"].append(tesla_tweet_sentiment[\"pos\"])\n",
    "        tesla_tweet_sent[\"tweet_neu\"].append(tesla_tweet_sentiment[\"neu\"])\n",
    "        tesla_tweet_sent[\"tweet_neg\"].append(tesla_tweet_sentiment[\"neg\"])\n",
    "        tesla_tweet_sent[\"tweet_sent\"].append(get_sentiment(tesla_tweet_sentiment[\"compound\"]))\n",
    "\n",
    "    except AttributeError:\n",
    "        pass\n",
    "\n",
    "# Attaching sentiment columns to the News DataFrame\n",
    "tesla_tweet_sentiment_df = pd.DataFrame(tesla_tweet_sent)\n",
    "tesla_tweets_df = tesla_tweets_df.join(tesla_tweet_sentiment_df)\n",
    "\n",
    "tesla_tweets_df.head()"
   ]
  },
  {
   "cell_type": "markdown",
   "metadata": {},
   "source": [
    "## Facebook Tweet Sentiment"
   ]
  },
  {
   "cell_type": "code",
   "execution_count": 19,
   "metadata": {},
   "outputs": [
    {
     "data": {
      "text/html": [
       "<div>\n",
       "<style scoped>\n",
       "    .dataframe tbody tr th:only-of-type {\n",
       "        vertical-align: middle;\n",
       "    }\n",
       "\n",
       "    .dataframe tbody tr th {\n",
       "        vertical-align: top;\n",
       "    }\n",
       "\n",
       "    .dataframe thead th {\n",
       "        text-align: right;\n",
       "    }\n",
       "</style>\n",
       "<table border=\"1\" class=\"dataframe\">\n",
       "  <thead>\n",
       "    <tr style=\"text-align: right;\">\n",
       "      <th></th>\n",
       "      <th>created_at</th>\n",
       "      <th>text</th>\n",
       "      <th>tweet_compound</th>\n",
       "      <th>tweet_pos</th>\n",
       "      <th>tweet_neu</th>\n",
       "      <th>tweet_neg</th>\n",
       "      <th>tweet_sent</th>\n",
       "    </tr>\n",
       "  </thead>\n",
       "  <tbody>\n",
       "    <tr>\n",
       "      <th>0</th>\n",
       "      <td>Mon Jan 11 11:31:35 +0000 2021</td>\n",
       "      <td>@SammerAbbas @Shiffa_ZY Thankyou for taking Em...</td>\n",
       "      <td>0.0000</td>\n",
       "      <td>0.000</td>\n",
       "      <td>1.000</td>\n",
       "      <td>0.000</td>\n",
       "      <td>0</td>\n",
       "    </tr>\n",
       "    <tr>\n",
       "      <th>1</th>\n",
       "      <td>Mon Jan 11 11:31:32 +0000 2021</td>\n",
       "      <td>Don't forget to stop by, network &amp;amp; Follow ...</td>\n",
       "      <td>0.4303</td>\n",
       "      <td>0.204</td>\n",
       "      <td>0.796</td>\n",
       "      <td>0.000</td>\n",
       "      <td>1</td>\n",
       "    </tr>\n",
       "    <tr>\n",
       "      <th>2</th>\n",
       "      <td>Mon Jan 11 11:31:31 +0000 2021</td>\n",
       "      <td>@telegram better than @WhatsApp \\n\\nDon't use ...</td>\n",
       "      <td>0.4404</td>\n",
       "      <td>0.244</td>\n",
       "      <td>0.756</td>\n",
       "      <td>0.000</td>\n",
       "      <td>1</td>\n",
       "    </tr>\n",
       "    <tr>\n",
       "      <th>3</th>\n",
       "      <td>Mon Jan 11 11:31:31 +0000 2021</td>\n",
       "      <td>For the good of our daughters #BETIPARHAO  htt...</td>\n",
       "      <td>0.4404</td>\n",
       "      <td>0.293</td>\n",
       "      <td>0.707</td>\n",
       "      <td>0.000</td>\n",
       "      <td>1</td>\n",
       "    </tr>\n",
       "    <tr>\n",
       "      <th>4</th>\n",
       "      <td>Mon Jan 11 11:31:29 +0000 2021</td>\n",
       "      <td>Nawa ooo..ND that's how I refused to play Face...</td>\n",
       "      <td>0.3612</td>\n",
       "      <td>0.197</td>\n",
       "      <td>0.711</td>\n",
       "      <td>0.092</td>\n",
       "      <td>1</td>\n",
       "    </tr>\n",
       "  </tbody>\n",
       "</table>\n",
       "</div>"
      ],
      "text/plain": [
       "                       created_at  \\\n",
       "0  Mon Jan 11 11:31:35 +0000 2021   \n",
       "1  Mon Jan 11 11:31:32 +0000 2021   \n",
       "2  Mon Jan 11 11:31:31 +0000 2021   \n",
       "3  Mon Jan 11 11:31:31 +0000 2021   \n",
       "4  Mon Jan 11 11:31:29 +0000 2021   \n",
       "\n",
       "                                                text  tweet_compound  \\\n",
       "0  @SammerAbbas @Shiffa_ZY Thankyou for taking Em...          0.0000   \n",
       "1  Don't forget to stop by, network &amp; Follow ...          0.4303   \n",
       "2  @telegram better than @WhatsApp \\n\\nDon't use ...          0.4404   \n",
       "3  For the good of our daughters #BETIPARHAO  htt...          0.4404   \n",
       "4  Nawa ooo..ND that's how I refused to play Face...          0.3612   \n",
       "\n",
       "   tweet_pos  tweet_neu  tweet_neg  tweet_sent  \n",
       "0      0.000      1.000      0.000           0  \n",
       "1      0.204      0.796      0.000           1  \n",
       "2      0.244      0.756      0.000           1  \n",
       "3      0.293      0.707      0.000           1  \n",
       "4      0.197      0.711      0.092           1  "
      ]
     },
     "execution_count": 19,
     "metadata": {},
     "output_type": "execute_result"
    }
   ],
   "source": [
    "# Sentiment scores dictionaries\n",
    "facebook_tweet_sent = {\n",
    "    \"tweet_compound\": [],\n",
    "    \"tweet_pos\": [],\n",
    "    \"tweet_neu\": [],\n",
    "    \"tweet_neg\": [],\n",
    "    \"tweet_sent\": [],\n",
    "}\n",
    "\n",
    "# Get sentiment for the tweets\n",
    "for index, row in facebook_tweets_df.iterrows():\n",
    "    try:\n",
    "        # Sentiment scoring with VADER\n",
    "        facebook_tweet_sentiment = analyzer.polarity_scores(row[\"text\"])\n",
    "        facebook_tweet_sent[\"tweet_compound\"].append(facebook_tweet_sentiment[\"compound\"])\n",
    "        facebook_tweet_sent[\"tweet_pos\"].append(facebook_tweet_sentiment[\"pos\"])\n",
    "        facebook_tweet_sent[\"tweet_neu\"].append(facebook_tweet_sentiment[\"neu\"])\n",
    "        facebook_tweet_sent[\"tweet_neg\"].append(facebook_tweet_sentiment[\"neg\"])\n",
    "        facebook_tweet_sent[\"tweet_sent\"].append(get_sentiment(facebook_tweet_sentiment[\"compound\"]))\n",
    "\n",
    "    except AttributeError:\n",
    "        pass\n",
    "\n",
    "# Attaching sentiment columns to the News DataFrame\n",
    "facebook_tweet_sentiment_df = pd.DataFrame(facebook_tweet_sent)\n",
    "facebook_tweets_df = facebook_tweets_df.join(facebook_tweet_sentiment_df)\n",
    "\n",
    "facebook_tweets_df.head()"
   ]
  },
  {
   "cell_type": "markdown",
   "metadata": {},
   "source": [
    "## Amazon Tweet Sentiment"
   ]
  },
  {
   "cell_type": "code",
   "execution_count": 20,
   "metadata": {},
   "outputs": [
    {
     "data": {
      "text/html": [
       "<div>\n",
       "<style scoped>\n",
       "    .dataframe tbody tr th:only-of-type {\n",
       "        vertical-align: middle;\n",
       "    }\n",
       "\n",
       "    .dataframe tbody tr th {\n",
       "        vertical-align: top;\n",
       "    }\n",
       "\n",
       "    .dataframe thead th {\n",
       "        text-align: right;\n",
       "    }\n",
       "</style>\n",
       "<table border=\"1\" class=\"dataframe\">\n",
       "  <thead>\n",
       "    <tr style=\"text-align: right;\">\n",
       "      <th></th>\n",
       "      <th>created_at</th>\n",
       "      <th>text</th>\n",
       "      <th>tweet_compound</th>\n",
       "      <th>tweet_pos</th>\n",
       "      <th>tweet_neu</th>\n",
       "      <th>tweet_neg</th>\n",
       "      <th>tweet_sent</th>\n",
       "    </tr>\n",
       "  </thead>\n",
       "  <tbody>\n",
       "    <tr>\n",
       "      <th>0</th>\n",
       "      <td>Mon Jan 11 11:31:35 +0000 2021</td>\n",
       "      <td>FLATSEVEN Mens Slim Fit Casual Cotton Shirts L...</td>\n",
       "      <td>0.5106</td>\n",
       "      <td>0.350</td>\n",
       "      <td>0.650</td>\n",
       "      <td>0.000</td>\n",
       "      <td>1</td>\n",
       "    </tr>\n",
       "    <tr>\n",
       "      <th>1</th>\n",
       "      <td>Mon Jan 11 11:31:31 +0000 2021</td>\n",
       "      <td>Zebronics Zeb-Tulip,in Ear Design Wired Stereo...</td>\n",
       "      <td>0.0000</td>\n",
       "      <td>0.000</td>\n",
       "      <td>1.000</td>\n",
       "      <td>0.000</td>\n",
       "      <td>0</td>\n",
       "    </tr>\n",
       "    <tr>\n",
       "      <th>2</th>\n",
       "      <td>Mon Jan 11 11:31:31 +0000 2021</td>\n",
       "      <td>\"Take a fun European vacation at home with you...</td>\n",
       "      <td>0.8302</td>\n",
       "      <td>0.301</td>\n",
       "      <td>0.699</td>\n",
       "      <td>0.000</td>\n",
       "      <td>1</td>\n",
       "    </tr>\n",
       "    <tr>\n",
       "      <th>3</th>\n",
       "      <td>Mon Jan 11 11:31:30 +0000 2021</td>\n",
       "      <td>@chas_armes @spuddonna @ViviVacca @BuzzFeedNew...</td>\n",
       "      <td>0.1779</td>\n",
       "      <td>0.091</td>\n",
       "      <td>0.909</td>\n",
       "      <td>0.000</td>\n",
       "      <td>1</td>\n",
       "    </tr>\n",
       "    <tr>\n",
       "      <th>4</th>\n",
       "      <td>Mon Jan 11 11:31:30 +0000 2021</td>\n",
       "      <td>But I see no reason to celebrate the effective...</td>\n",
       "      <td>0.8316</td>\n",
       "      <td>0.342</td>\n",
       "      <td>0.582</td>\n",
       "      <td>0.075</td>\n",
       "      <td>1</td>\n",
       "    </tr>\n",
       "  </tbody>\n",
       "</table>\n",
       "</div>"
      ],
      "text/plain": [
       "                       created_at  \\\n",
       "0  Mon Jan 11 11:31:35 +0000 2021   \n",
       "1  Mon Jan 11 11:31:31 +0000 2021   \n",
       "2  Mon Jan 11 11:31:31 +0000 2021   \n",
       "3  Mon Jan 11 11:31:30 +0000 2021   \n",
       "4  Mon Jan 11 11:31:30 +0000 2021   \n",
       "\n",
       "                                                text  tweet_compound  \\\n",
       "0  FLATSEVEN Mens Slim Fit Casual Cotton Shirts L...          0.5106   \n",
       "1  Zebronics Zeb-Tulip,in Ear Design Wired Stereo...          0.0000   \n",
       "2  \"Take a fun European vacation at home with you...          0.8302   \n",
       "3  @chas_armes @spuddonna @ViviVacca @BuzzFeedNew...          0.1779   \n",
       "4  But I see no reason to celebrate the effective...          0.8316   \n",
       "\n",
       "   tweet_pos  tweet_neu  tweet_neg  tweet_sent  \n",
       "0      0.350      0.650      0.000           1  \n",
       "1      0.000      1.000      0.000           0  \n",
       "2      0.301      0.699      0.000           1  \n",
       "3      0.091      0.909      0.000           1  \n",
       "4      0.342      0.582      0.075           1  "
      ]
     },
     "execution_count": 20,
     "metadata": {},
     "output_type": "execute_result"
    }
   ],
   "source": [
    "# Sentiment scores dictionaries\n",
    "amazon_tweet_sent = {\n",
    "    \"tweet_compound\": [],\n",
    "    \"tweet_pos\": [],\n",
    "    \"tweet_neu\": [],\n",
    "    \"tweet_neg\": [],\n",
    "    \"tweet_sent\": [],\n",
    "}\n",
    "\n",
    "# Get sentiment for the tweets\n",
    "for index, row in amazon_tweets_df.iterrows():\n",
    "    try:\n",
    "        # Sentiment scoring with VADER\n",
    "        amazon_tweet_sentiment = analyzer.polarity_scores(row[\"text\"])\n",
    "        amazon_tweet_sent[\"tweet_compound\"].append(amazon_tweet_sentiment[\"compound\"])\n",
    "        amazon_tweet_sent[\"tweet_pos\"].append(amazon_tweet_sentiment[\"pos\"])\n",
    "        amazon_tweet_sent[\"tweet_neu\"].append(amazon_tweet_sentiment[\"neu\"])\n",
    "        amazon_tweet_sent[\"tweet_neg\"].append(amazon_tweet_sentiment[\"neg\"])\n",
    "        amazon_tweet_sent[\"tweet_sent\"].append(get_sentiment(amazon_tweet_sentiment[\"compound\"]))\n",
    "\n",
    "    except AttributeError:\n",
    "        pass\n",
    "\n",
    "# Attaching sentiment columns to the News DataFrame\n",
    "amazon_tweet_sentiment_df = pd.DataFrame(amazon_tweet_sent)\n",
    "amazon_tweets_df = amazon_tweets_df.join(amazon_tweet_sentiment_df)\n",
    "\n",
    "amazon_tweets_df.head()"
   ]
  },
  {
   "cell_type": "markdown",
   "metadata": {},
   "source": [
    "## Microsoft Tweet Sentiment"
   ]
  },
  {
   "cell_type": "code",
   "execution_count": 21,
   "metadata": {},
   "outputs": [
    {
     "data": {
      "text/html": [
       "<div>\n",
       "<style scoped>\n",
       "    .dataframe tbody tr th:only-of-type {\n",
       "        vertical-align: middle;\n",
       "    }\n",
       "\n",
       "    .dataframe tbody tr th {\n",
       "        vertical-align: top;\n",
       "    }\n",
       "\n",
       "    .dataframe thead th {\n",
       "        text-align: right;\n",
       "    }\n",
       "</style>\n",
       "<table border=\"1\" class=\"dataframe\">\n",
       "  <thead>\n",
       "    <tr style=\"text-align: right;\">\n",
       "      <th></th>\n",
       "      <th>created_at</th>\n",
       "      <th>text</th>\n",
       "      <th>tweet_compound</th>\n",
       "      <th>tweet_pos</th>\n",
       "      <th>tweet_neu</th>\n",
       "      <th>tweet_neg</th>\n",
       "      <th>tweet_sent</th>\n",
       "    </tr>\n",
       "  </thead>\n",
       "  <tbody>\n",
       "    <tr>\n",
       "      <th>0</th>\n",
       "      <td>Mon Jan 11 11:31:35 +0000 2021</td>\n",
       "      <td>Having really impressive results moving a clie...</td>\n",
       "      <td>0.5563</td>\n",
       "      <td>0.204</td>\n",
       "      <td>0.796</td>\n",
       "      <td>0.000</td>\n",
       "      <td>1</td>\n",
       "    </tr>\n",
       "    <tr>\n",
       "      <th>1</th>\n",
       "      <td>Mon Jan 11 11:31:24 +0000 2021</td>\n",
       "      <td>Pupils in Scotland struggle to get online amid...</td>\n",
       "      <td>-0.3182</td>\n",
       "      <td>0.000</td>\n",
       "      <td>0.813</td>\n",
       "      <td>0.187</td>\n",
       "      <td>-1</td>\n",
       "    </tr>\n",
       "    <tr>\n",
       "      <th>2</th>\n",
       "      <td>Mon Jan 11 11:31:21 +0000 2021</td>\n",
       "      <td>starting to feel like a microsoft office zombie</td>\n",
       "      <td>0.3612</td>\n",
       "      <td>0.294</td>\n",
       "      <td>0.706</td>\n",
       "      <td>0.000</td>\n",
       "      <td>1</td>\n",
       "    </tr>\n",
       "    <tr>\n",
       "      <th>3</th>\n",
       "      <td>Mon Jan 11 11:31:06 +0000 2021</td>\n",
       "      <td>Keir Starmer missing the chance to condemn the...</td>\n",
       "      <td>-0.4215</td>\n",
       "      <td>0.084</td>\n",
       "      <td>0.714</td>\n",
       "      <td>0.202</td>\n",
       "      <td>-1</td>\n",
       "    </tr>\n",
       "    <tr>\n",
       "      <th>4</th>\n",
       "      <td>Mon Jan 11 11:31:03 +0000 2021</td>\n",
       "      <td>Two local authorities in northwest England sig...</td>\n",
       "      <td>0.0000</td>\n",
       "      <td>0.000</td>\n",
       "      <td>1.000</td>\n",
       "      <td>0.000</td>\n",
       "      <td>0</td>\n",
       "    </tr>\n",
       "  </tbody>\n",
       "</table>\n",
       "</div>"
      ],
      "text/plain": [
       "                       created_at  \\\n",
       "0  Mon Jan 11 11:31:35 +0000 2021   \n",
       "1  Mon Jan 11 11:31:24 +0000 2021   \n",
       "2  Mon Jan 11 11:31:21 +0000 2021   \n",
       "3  Mon Jan 11 11:31:06 +0000 2021   \n",
       "4  Mon Jan 11 11:31:03 +0000 2021   \n",
       "\n",
       "                                                text  tweet_compound  \\\n",
       "0  Having really impressive results moving a clie...          0.5563   \n",
       "1  Pupils in Scotland struggle to get online amid...         -0.3182   \n",
       "2    starting to feel like a microsoft office zombie          0.3612   \n",
       "3  Keir Starmer missing the chance to condemn the...         -0.4215   \n",
       "4  Two local authorities in northwest England sig...          0.0000   \n",
       "\n",
       "   tweet_pos  tweet_neu  tweet_neg  tweet_sent  \n",
       "0      0.204      0.796      0.000           1  \n",
       "1      0.000      0.813      0.187          -1  \n",
       "2      0.294      0.706      0.000           1  \n",
       "3      0.084      0.714      0.202          -1  \n",
       "4      0.000      1.000      0.000           0  "
      ]
     },
     "execution_count": 21,
     "metadata": {},
     "output_type": "execute_result"
    }
   ],
   "source": [
    "# Sentiment scores dictionaries\n",
    "microsoft_tweet_sent = {\n",
    "    \"tweet_compound\": [],\n",
    "    \"tweet_pos\": [],\n",
    "    \"tweet_neu\": [],\n",
    "    \"tweet_neg\": [],\n",
    "    \"tweet_sent\": [],\n",
    "}\n",
    "\n",
    "# Get sentiment for the tweets\n",
    "for index, row in microsoft_tweets_df.iterrows():\n",
    "    try:\n",
    "        # Sentiment scoring with VADER\n",
    "        microsoft_tweet_sentiment = analyzer.polarity_scores(row[\"text\"])\n",
    "        microsoft_tweet_sent[\"tweet_compound\"].append(microsoft_tweet_sentiment[\"compound\"])\n",
    "        microsoft_tweet_sent[\"tweet_pos\"].append(microsoft_tweet_sentiment[\"pos\"])\n",
    "        microsoft_tweet_sent[\"tweet_neu\"].append(microsoft_tweet_sentiment[\"neu\"])\n",
    "        microsoft_tweet_sent[\"tweet_neg\"].append(microsoft_tweet_sentiment[\"neg\"])\n",
    "        microsoft_tweet_sent[\"tweet_sent\"].append(get_sentiment(microsoft_tweet_sentiment[\"compound\"]))\n",
    "\n",
    "    except AttributeError:\n",
    "        pass\n",
    "\n",
    "# Attaching sentiment columns to the News DataFrame\n",
    "microsoft_tweet_sentiment_df = pd.DataFrame(microsoft_tweet_sent)\n",
    "microsoft_tweets_df = microsoft_tweets_df.join(microsoft_tweet_sentiment_df)\n",
    "\n",
    "microsoft_tweets_df.head()"
   ]
  },
  {
   "cell_type": "markdown",
   "metadata": {},
   "source": [
    "## Apple Tweet Sentiment"
   ]
  },
  {
   "cell_type": "code",
   "execution_count": 22,
   "metadata": {},
   "outputs": [
    {
     "data": {
      "text/html": [
       "<div>\n",
       "<style scoped>\n",
       "    .dataframe tbody tr th:only-of-type {\n",
       "        vertical-align: middle;\n",
       "    }\n",
       "\n",
       "    .dataframe tbody tr th {\n",
       "        vertical-align: top;\n",
       "    }\n",
       "\n",
       "    .dataframe thead th {\n",
       "        text-align: right;\n",
       "    }\n",
       "</style>\n",
       "<table border=\"1\" class=\"dataframe\">\n",
       "  <thead>\n",
       "    <tr style=\"text-align: right;\">\n",
       "      <th></th>\n",
       "      <th>created_at</th>\n",
       "      <th>text</th>\n",
       "      <th>tweet_compound</th>\n",
       "      <th>tweet_pos</th>\n",
       "      <th>tweet_neu</th>\n",
       "      <th>tweet_neg</th>\n",
       "      <th>tweet_sent</th>\n",
       "    </tr>\n",
       "  </thead>\n",
       "  <tbody>\n",
       "    <tr>\n",
       "      <th>0</th>\n",
       "      <td>Mon Jan 11 11:31:37 +0000 2021</td>\n",
       "      <td>@charliekirk11 Go to your Apple Podcast now......</td>\n",
       "      <td>-0.4404</td>\n",
       "      <td>0.121</td>\n",
       "      <td>0.673</td>\n",
       "      <td>0.206</td>\n",
       "      <td>-1</td>\n",
       "    </tr>\n",
       "    <tr>\n",
       "      <th>1</th>\n",
       "      <td>Mon Jan 11 11:31:29 +0000 2021</td>\n",
       "      <td>Moree! \\n\\nYT: https://t.co/EHH3oCmKCy\\nSPOTIF...</td>\n",
       "      <td>0.0000</td>\n",
       "      <td>0.000</td>\n",
       "      <td>1.000</td>\n",
       "      <td>0.000</td>\n",
       "      <td>0</td>\n",
       "    </tr>\n",
       "    <tr>\n",
       "      <th>2</th>\n",
       "      <td>Mon Jan 11 11:31:29 +0000 2021</td>\n",
       "      <td>Apple Music - 'Top 100: Global':\\n\\n🔺Dynamite ...</td>\n",
       "      <td>0.2023</td>\n",
       "      <td>0.153</td>\n",
       "      <td>0.847</td>\n",
       "      <td>0.000</td>\n",
       "      <td>1</td>\n",
       "    </tr>\n",
       "    <tr>\n",
       "      <th>3</th>\n",
       "      <td>Mon Jan 11 11:31:29 +0000 2021</td>\n",
       "      <td>@The_Grimster @LeftyBesty @mike_hamm @Screenwr...</td>\n",
       "      <td>0.0000</td>\n",
       "      <td>0.000</td>\n",
       "      <td>1.000</td>\n",
       "      <td>0.000</td>\n",
       "      <td>0</td>\n",
       "    </tr>\n",
       "    <tr>\n",
       "      <th>4</th>\n",
       "      <td>Mon Jan 11 11:31:27 +0000 2021</td>\n",
       "      <td>@lelowhatsgood Apple is a bombaclat for discon...</td>\n",
       "      <td>0.0000</td>\n",
       "      <td>0.000</td>\n",
       "      <td>1.000</td>\n",
       "      <td>0.000</td>\n",
       "      <td>0</td>\n",
       "    </tr>\n",
       "  </tbody>\n",
       "</table>\n",
       "</div>"
      ],
      "text/plain": [
       "                       created_at  \\\n",
       "0  Mon Jan 11 11:31:37 +0000 2021   \n",
       "1  Mon Jan 11 11:31:29 +0000 2021   \n",
       "2  Mon Jan 11 11:31:29 +0000 2021   \n",
       "3  Mon Jan 11 11:31:29 +0000 2021   \n",
       "4  Mon Jan 11 11:31:27 +0000 2021   \n",
       "\n",
       "                                                text  tweet_compound  \\\n",
       "0  @charliekirk11 Go to your Apple Podcast now......         -0.4404   \n",
       "1  Moree! \\n\\nYT: https://t.co/EHH3oCmKCy\\nSPOTIF...          0.0000   \n",
       "2  Apple Music - 'Top 100: Global':\\n\\n🔺Dynamite ...          0.2023   \n",
       "3  @The_Grimster @LeftyBesty @mike_hamm @Screenwr...          0.0000   \n",
       "4  @lelowhatsgood Apple is a bombaclat for discon...          0.0000   \n",
       "\n",
       "   tweet_pos  tweet_neu  tweet_neg  tweet_sent  \n",
       "0      0.121      0.673      0.206          -1  \n",
       "1      0.000      1.000      0.000           0  \n",
       "2      0.153      0.847      0.000           1  \n",
       "3      0.000      1.000      0.000           0  \n",
       "4      0.000      1.000      0.000           0  "
      ]
     },
     "execution_count": 22,
     "metadata": {},
     "output_type": "execute_result"
    }
   ],
   "source": [
    "# Sentiment scores dictionaries\n",
    "apple_tweet_sent = {\n",
    "    \"tweet_compound\": [],\n",
    "    \"tweet_pos\": [],\n",
    "    \"tweet_neu\": [],\n",
    "    \"tweet_neg\": [],\n",
    "    \"tweet_sent\": [],\n",
    "}\n",
    "\n",
    "# Get sentiment for the tweets\n",
    "for index, row in apple_tweets_df.iterrows():\n",
    "    try:\n",
    "        # Sentiment scoring with VADER\n",
    "        apple_tweet_sentiment = analyzer.polarity_scores(row[\"text\"])\n",
    "        apple_tweet_sent[\"tweet_compound\"].append(apple_tweet_sentiment[\"compound\"])\n",
    "        apple_tweet_sent[\"tweet_pos\"].append(apple_tweet_sentiment[\"pos\"])\n",
    "        apple_tweet_sent[\"tweet_neu\"].append(apple_tweet_sentiment[\"neu\"])\n",
    "        apple_tweet_sent[\"tweet_neg\"].append(apple_tweet_sentiment[\"neg\"])\n",
    "        apple_tweet_sent[\"tweet_sent\"].append(get_sentiment(apple_tweet_sentiment[\"compound\"]))\n",
    "\n",
    "    except AttributeError:\n",
    "        pass\n",
    "\n",
    "# Attaching sentiment columns to the News DataFrame\n",
    "apple_tweet_sentiment_df = pd.DataFrame(apple_tweet_sent)\n",
    "apple_tweets_df = apple_tweets_df.join(apple_tweet_sentiment_df)\n",
    "\n",
    "apple_tweets_df.head()"
   ]
  },
  {
   "cell_type": "markdown",
   "metadata": {},
   "source": [
    "# Data Visualization"
   ]
  },
  {
   "cell_type": "code",
   "execution_count": 76,
   "metadata": {},
   "outputs": [],
   "source": [
    "import seaborn as sns\n",
    "import matplotlib.pyplot as plt\n",
    "%matplotlib inline\n",
    "sns.set_style(\"darkgrid\")"
   ]
  },
  {
   "cell_type": "markdown",
   "metadata": {},
   "source": [
    "## Apple"
   ]
  },
  {
   "cell_type": "code",
   "execution_count": 113,
   "metadata": {},
   "outputs": [
    {
     "data": {
      "image/png": "[encoded data removed]",
      "text/plain": [
       "<Figure size 144x504 with 1 Axes>"
      ]
     },
     "metadata": {},
     "output_type": "display_data"
    }
   ],
   "source": [
    "plt.figure(figsize=(2,7))\n",
    "sns.barplot(x=apple_tweets_df.tweet_sent.value_counts().index, y=apple_tweets_df.tweet_sent.value_counts(), palette='viridis')\n",
    "plt.ylim(0, 55)\n",
    "plt.ylabel(\"\")\n",
    "plt.tight_layout()\n",
    "plt.savefig(\"../Images/apple.png\");"
   ]
  },
  {
   "cell_type": "markdown",
   "metadata": {},
   "source": [
    "## Microsoft"
   ]
  },
  {
   "cell_type": "code",
   "execution_count": 114,
   "metadata": {},
   "outputs": [
    {
     "data": {
      "image/png": "[encoded data removed]",
      "text/plain": [
       "<Figure size 144x504 with 1 Axes>"
      ]
     },
     "metadata": {},
     "output_type": "display_data"
    }
   ],
   "source": [
    "plt.figure(figsize=(2,7))\n",
    "sns.barplot(x=microsoft_tweets_df.tweet_sent.value_counts().index, y=microsoft_tweets_df.tweet_sent.value_counts(), palette='viridis')\n",
    "plt.ylim(0, 55)\n",
    "plt.ylabel(\"\")\n",
    "plt.tight_layout()\n",
    "plt.savefig(\"../Images/microsoft.png\");"
   ]
  },
  {
   "cell_type": "markdown",
   "metadata": {},
   "source": [
    "## Amazon"
   ]
  },
  {
   "cell_type": "code",
   "execution_count": 118,
   "metadata": {},
   "outputs": [
    {
     "data": {
      "image/png": "[encoded data removed]",
      "text/plain": [
       "<Figure size 144x504 with 1 Axes>"
      ]
     },
     "metadata": {},
     "output_type": "display_data"
    }
   ],
   "source": [
    "plt.figure(figsize=(2,7))\n",
    "sns.barplot(x=amazon_tweets_df.tweet_sent.value_counts().index, y=amazon_tweets_df.tweet_sent.value_counts(), palette='viridis')\n",
    "plt.ylim(0,55)\n",
    "plt.ylabel(\"\")\n",
    "plt.tight_layout()\n",
    "plt.savefig(\"../Images/amazon.png\");"
   ]
  },
  {
   "cell_type": "markdown",
   "metadata": {},
   "source": [
    "## Facebook"
   ]
  },
  {
   "cell_type": "code",
   "execution_count": 116,
   "metadata": {},
   "outputs": [
    {
     "data": {
      "image/png": "[encoded data removed]",
      "text/plain": [
       "<Figure size 144x504 with 1 Axes>"
      ]
     },
     "metadata": {},
     "output_type": "display_data"
    }
   ],
   "source": [
    "plt.figure(figsize=(2,7))\n",
    "sns.barplot(x=facebook_tweets_df.tweet_sent.value_counts().index, y=facebook_tweets_df.tweet_sent.value_counts(), palette='viridis')\n",
    "plt.ylim(0,55)\n",
    "plt.ylabel(\"\")\n",
    "plt.tight_layout()\n",
    "plt.savefig(\"../Images/facebook.png\");"
   ]
  },
  {
   "cell_type": "markdown",
   "metadata": {},
   "source": [
    "## Tesla"
   ]
  },
  {
   "cell_type": "code",
   "execution_count": 117,
   "metadata": {},
   "outputs": [
    {
     "data": {
      "image/png": "[encoded data removed]",
      "text/plain": [
       "<Figure size 144x504 with 1 Axes>"
      ]
     },
     "metadata": {},
     "output_type": "display_data"
    }
   ],
   "source": [
    "plt.figure(figsize=(2,7))\n",
    "sns.barplot(x=tesla_tweets_df.tweet_sent.value_counts().index, y=tesla_tweets_df.tweet_sent.value_counts(), palette='viridis')\n",
    "plt.ylim(0,55)\n",
    "plt.ylabel(\"\")\n",
    "plt.tight_layout()\n",
    "plt.savefig(\"../Images/tesla.png\");"
   ]
  },
  {
   "cell_type": "code",
   "execution_count": null,
   "metadata": {},
   "outputs": [],
   "source": []
  }
 ],
 "metadata": {
  "kernelspec": {
   "display_name": "Python (mlenv)",
   "language": "python",
   "name": "mlenv"
  },
  "language_info": {
   "codemirror_mode": {
    "name": "ipython",
    "version": 3
   },
   "file_extension": ".py",
   "mimetype": "text/x-python",
   "name": "python",
   "nbconvert_exporter": "python",
   "pygments_lexer": "ipython3",
   "version": "3.7.9"
  }
 },
 "nbformat": 4,
 "nbformat_minor": 4
}
